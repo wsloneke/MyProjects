{
 "cells": [
  {
   "cell_type": "code",
   "execution_count": 9,
   "id": "5d5bedec-3ac7-4449-b4b1-a587ba5a4f9a",
   "metadata": {},
   "outputs": [],
   "source": [
    "import numpy as np\n",
    "import pandas as pd\n",
    "import matplotlib.pyplot as plt\n",
    "from sklearn.model_selection import train_test_split\n",
    "from sklearn.metrics import classification_report\n",
    "from sklearn.linear_model import SGDRegressor\n",
    "from sklearn.metrics import mean_squared_error\n",
    "from sklearn.svm import SVC\n",
    "from sklearn.metrics import confusion_matrix\n",
    "from sklearn.naive_bayes import GaussianNB\n",
    "from sklearn.neighbors import KNeighborsClassifier\n",
    "from sklearn.decomposition import PCA"
   ]
  },
  {
   "cell_type": "code",
   "execution_count": 10,
   "id": "aecfeda0-7ce3-4718-9fd2-7235cd2014f1",
   "metadata": {},
   "outputs": [
    {
     "data": {
      "text/html": [
       "<div>\n",
       "<style scoped>\n",
       "    .dataframe tbody tr th:only-of-type {\n",
       "        vertical-align: middle;\n",
       "    }\n",
       "\n",
       "    .dataframe tbody tr th {\n",
       "        vertical-align: top;\n",
       "    }\n",
       "\n",
       "    .dataframe thead th {\n",
       "        text-align: right;\n",
       "    }\n",
       "</style>\n",
       "<table border=\"1\" class=\"dataframe\">\n",
       "  <thead>\n",
       "    <tr style=\"text-align: right;\">\n",
       "      <th></th>\n",
       "      <th>id</th>\n",
       "      <th>diagnosis</th>\n",
       "      <th>radius_mean</th>\n",
       "      <th>texture_mean</th>\n",
       "      <th>perimeter_mean</th>\n",
       "      <th>area_mean</th>\n",
       "      <th>smoothness_mean</th>\n",
       "      <th>compactness_mean</th>\n",
       "      <th>concavity_mean</th>\n",
       "      <th>concave points_mean</th>\n",
       "      <th>...</th>\n",
       "      <th>radius_worst</th>\n",
       "      <th>texture_worst</th>\n",
       "      <th>perimeter_worst</th>\n",
       "      <th>area_worst</th>\n",
       "      <th>smoothness_worst</th>\n",
       "      <th>compactness_worst</th>\n",
       "      <th>concavity_worst</th>\n",
       "      <th>concave points_worst</th>\n",
       "      <th>symmetry_worst</th>\n",
       "      <th>fractal_dimension_worst</th>\n",
       "    </tr>\n",
       "  </thead>\n",
       "  <tbody>\n",
       "    <tr>\n",
       "      <th>0</th>\n",
       "      <td>842302</td>\n",
       "      <td>M</td>\n",
       "      <td>17.99</td>\n",
       "      <td>10.38</td>\n",
       "      <td>122.80</td>\n",
       "      <td>1001.0</td>\n",
       "      <td>0.11840</td>\n",
       "      <td>0.27760</td>\n",
       "      <td>0.3001</td>\n",
       "      <td>0.14710</td>\n",
       "      <td>...</td>\n",
       "      <td>25.38</td>\n",
       "      <td>17.33</td>\n",
       "      <td>184.60</td>\n",
       "      <td>2019.0</td>\n",
       "      <td>0.1622</td>\n",
       "      <td>0.6656</td>\n",
       "      <td>0.7119</td>\n",
       "      <td>0.2654</td>\n",
       "      <td>0.4601</td>\n",
       "      <td>0.11890</td>\n",
       "    </tr>\n",
       "    <tr>\n",
       "      <th>1</th>\n",
       "      <td>842517</td>\n",
       "      <td>M</td>\n",
       "      <td>20.57</td>\n",
       "      <td>17.77</td>\n",
       "      <td>132.90</td>\n",
       "      <td>1326.0</td>\n",
       "      <td>0.08474</td>\n",
       "      <td>0.07864</td>\n",
       "      <td>0.0869</td>\n",
       "      <td>0.07017</td>\n",
       "      <td>...</td>\n",
       "      <td>24.99</td>\n",
       "      <td>23.41</td>\n",
       "      <td>158.80</td>\n",
       "      <td>1956.0</td>\n",
       "      <td>0.1238</td>\n",
       "      <td>0.1866</td>\n",
       "      <td>0.2416</td>\n",
       "      <td>0.1860</td>\n",
       "      <td>0.2750</td>\n",
       "      <td>0.08902</td>\n",
       "    </tr>\n",
       "    <tr>\n",
       "      <th>2</th>\n",
       "      <td>84300903</td>\n",
       "      <td>M</td>\n",
       "      <td>19.69</td>\n",
       "      <td>21.25</td>\n",
       "      <td>130.00</td>\n",
       "      <td>1203.0</td>\n",
       "      <td>0.10960</td>\n",
       "      <td>0.15990</td>\n",
       "      <td>0.1974</td>\n",
       "      <td>0.12790</td>\n",
       "      <td>...</td>\n",
       "      <td>23.57</td>\n",
       "      <td>25.53</td>\n",
       "      <td>152.50</td>\n",
       "      <td>1709.0</td>\n",
       "      <td>0.1444</td>\n",
       "      <td>0.4245</td>\n",
       "      <td>0.4504</td>\n",
       "      <td>0.2430</td>\n",
       "      <td>0.3613</td>\n",
       "      <td>0.08758</td>\n",
       "    </tr>\n",
       "    <tr>\n",
       "      <th>3</th>\n",
       "      <td>84348301</td>\n",
       "      <td>M</td>\n",
       "      <td>11.42</td>\n",
       "      <td>20.38</td>\n",
       "      <td>77.58</td>\n",
       "      <td>386.1</td>\n",
       "      <td>0.14250</td>\n",
       "      <td>0.28390</td>\n",
       "      <td>0.2414</td>\n",
       "      <td>0.10520</td>\n",
       "      <td>...</td>\n",
       "      <td>14.91</td>\n",
       "      <td>26.50</td>\n",
       "      <td>98.87</td>\n",
       "      <td>567.7</td>\n",
       "      <td>0.2098</td>\n",
       "      <td>0.8663</td>\n",
       "      <td>0.6869</td>\n",
       "      <td>0.2575</td>\n",
       "      <td>0.6638</td>\n",
       "      <td>0.17300</td>\n",
       "    </tr>\n",
       "    <tr>\n",
       "      <th>4</th>\n",
       "      <td>84358402</td>\n",
       "      <td>M</td>\n",
       "      <td>20.29</td>\n",
       "      <td>14.34</td>\n",
       "      <td>135.10</td>\n",
       "      <td>1297.0</td>\n",
       "      <td>0.10030</td>\n",
       "      <td>0.13280</td>\n",
       "      <td>0.1980</td>\n",
       "      <td>0.10430</td>\n",
       "      <td>...</td>\n",
       "      <td>22.54</td>\n",
       "      <td>16.67</td>\n",
       "      <td>152.20</td>\n",
       "      <td>1575.0</td>\n",
       "      <td>0.1374</td>\n",
       "      <td>0.2050</td>\n",
       "      <td>0.4000</td>\n",
       "      <td>0.1625</td>\n",
       "      <td>0.2364</td>\n",
       "      <td>0.07678</td>\n",
       "    </tr>\n",
       "  </tbody>\n",
       "</table>\n",
       "<p>5 rows × 32 columns</p>\n",
       "</div>"
      ],
      "text/plain": [
       "         id diagnosis  radius_mean  texture_mean  perimeter_mean  area_mean  \\\n",
       "0    842302         M        17.99         10.38          122.80     1001.0   \n",
       "1    842517         M        20.57         17.77          132.90     1326.0   \n",
       "2  84300903         M        19.69         21.25          130.00     1203.0   \n",
       "3  84348301         M        11.42         20.38           77.58      386.1   \n",
       "4  84358402         M        20.29         14.34          135.10     1297.0   \n",
       "\n",
       "   smoothness_mean  compactness_mean  concavity_mean  concave points_mean  \\\n",
       "0          0.11840           0.27760          0.3001              0.14710   \n",
       "1          0.08474           0.07864          0.0869              0.07017   \n",
       "2          0.10960           0.15990          0.1974              0.12790   \n",
       "3          0.14250           0.28390          0.2414              0.10520   \n",
       "4          0.10030           0.13280          0.1980              0.10430   \n",
       "\n",
       "   ...  radius_worst  texture_worst  perimeter_worst  area_worst  \\\n",
       "0  ...         25.38          17.33           184.60      2019.0   \n",
       "1  ...         24.99          23.41           158.80      1956.0   \n",
       "2  ...         23.57          25.53           152.50      1709.0   \n",
       "3  ...         14.91          26.50            98.87       567.7   \n",
       "4  ...         22.54          16.67           152.20      1575.0   \n",
       "\n",
       "   smoothness_worst  compactness_worst  concavity_worst  concave points_worst  \\\n",
       "0            0.1622             0.6656           0.7119                0.2654   \n",
       "1            0.1238             0.1866           0.2416                0.1860   \n",
       "2            0.1444             0.4245           0.4504                0.2430   \n",
       "3            0.2098             0.8663           0.6869                0.2575   \n",
       "4            0.1374             0.2050           0.4000                0.1625   \n",
       "\n",
       "   symmetry_worst  fractal_dimension_worst  \n",
       "0          0.4601                  0.11890  \n",
       "1          0.2750                  0.08902  \n",
       "2          0.3613                  0.08758  \n",
       "3          0.6638                  0.17300  \n",
       "4          0.2364                  0.07678  \n",
       "\n",
       "[5 rows x 32 columns]"
      ]
     },
     "execution_count": 10,
     "metadata": {},
     "output_type": "execute_result"
    }
   ],
   "source": [
    "df = pd.read_csv(\"data/breast-cancer.csv\")\n",
    "df.head()"
   ]
  },
  {
   "cell_type": "code",
   "execution_count": 11,
   "id": "21cf9684-10d9-46a9-90de-78395aeaf871",
   "metadata": {},
   "outputs": [],
   "source": [
    "df.replace(to_replace =\"M\", value = 1, inplace = True)\n",
    "df.replace(to_replace =\"B\", value = 0, inplace = True)"
   ]
  },
  {
   "cell_type": "code",
   "execution_count": 12,
   "id": "3022c230-a697-45d1-a53e-129385eda2e3",
   "metadata": {},
   "outputs": [
    {
     "name": "stdout",
     "output_type": "stream",
     "text": [
      "['id', 'diagnosis', 'radius_mean', 'texture_mean', 'perimeter_mean', 'area_mean', 'smoothness_mean', 'compactness_mean', 'concavity_mean', 'concave points_mean', 'symmetry_mean', 'fractal_dimension_mean', 'radius_se', 'texture_se', 'perimeter_se', 'area_se', 'smoothness_se', 'compactness_se', 'concavity_se', 'concave points_se', 'symmetry_se', 'fractal_dimension_se', 'radius_worst', 'texture_worst', 'perimeter_worst', 'area_worst', 'smoothness_worst', 'compactness_worst', 'concavity_worst', 'concave points_worst', 'symmetry_worst', 'fractal_dimension_worst']\n"
     ]
    }
   ],
   "source": [
    "names = list(df.columns)\n",
    "print(names)"
   ]
  },
  {
   "cell_type": "code",
   "execution_count": 13,
   "id": "27272c00-acd8-40be-86ee-8c2e7091a52a",
   "metadata": {},
   "outputs": [
    {
     "name": "stdout",
     "output_type": "stream",
     "text": [
      "['radius_mean', 'texture_mean', 'perimeter_mean', 'area_mean', 'smoothness_mean', 'compactness_mean', 'concavity_mean', 'concave points_mean', 'symmetry_mean', 'fractal_dimension_mean', 'radius_se', 'texture_se', 'perimeter_se', 'area_se', 'smoothness_se', 'compactness_se', 'concavity_se', 'concave points_se', 'symmetry_se', 'fractal_dimension_se', 'radius_worst', 'texture_worst', 'perimeter_worst', 'area_worst', 'smoothness_worst', 'compactness_worst', 'concavity_worst', 'concave points_worst', 'symmetry_worst', 'fractal_dimension_worst']\n"
     ]
    }
   ],
   "source": [
    "names.pop(0)\n",
    "names.pop(0)\n",
    "print(names)"
   ]
  },
  {
   "cell_type": "code",
   "execution_count": 41,
   "id": "e3ec2541-386f-498b-9b52-22395a454e2f",
   "metadata": {},
   "outputs": [
    {
     "name": "stdout",
     "output_type": "stream",
     "text": [
      "0.11162391636435444\n",
      "radius_worst\n"
     ]
    },
    {
     "name": "stderr",
     "output_type": "stream",
     "text": [
      "C:\\Users\\whitn\\anaconda3\\lib\\site-packages\\sklearn\\linear_model\\_stochastic_gradient.py:1503: ConvergenceWarning: Maximum number of iteration reached before convergence. Consider increasing max_iter to improve the fit.\n",
      "  warnings.warn(\n"
     ]
    }
   ],
   "source": [
    "smaller = []\n",
    "m = 10000\n",
    "for name in names:\n",
    "    Y=df['diagnosis']\n",
    "    features = [name]\n",
    "    X = df[features]\n",
    "    x_train,x_test,y_train,y_test=train_test_split(X,Y,test_size=0.3)\n",
    "\n",
    "    n_iter=100\n",
    "    clf_ = SGDRegressor(max_iter=n_iter)\n",
    "    clf_.fit(x_train, y_train)\n",
    "    y_pred_sksgd=clf_.predict(x_test)\n",
    "    mse = mean_squared_error(y_test, y_pred_sksgd)\n",
    "    \n",
    "    if mse <= 0.25:\n",
    "        smaller.append(name)\n",
    "    if mse < m:\n",
    "        m = mse\n",
    "        elm = name\n",
    "        \n",
    "print(m)\n",
    "print(elm)"
   ]
  },
  {
   "cell_type": "code",
   "execution_count": 25,
   "id": "06f376a0-e339-44d8-aeaa-46a3ae94fe36",
   "metadata": {},
   "outputs": [],
   "source": [
    "def getCombinations(seq):\n",
    "    combinations = list()\n",
    "    for i in range(0,len(seq)):\n",
    "        for j in range(i+1,len(seq)):\n",
    "            combinations.append([seq[i],seq[j]])\n",
    "    return combinations"
   ]
  },
  {
   "cell_type": "code",
   "execution_count": 35,
   "id": "1f097eac-dae2-41ed-bdd7-e4f520451917",
   "metadata": {},
   "outputs": [],
   "source": [
    "res = getCombinations(smaller)"
   ]
  },
  {
   "cell_type": "code",
   "execution_count": 40,
   "id": "1d92942f-b6e9-4446-9b6a-63f62b36153d",
   "metadata": {},
   "outputs": [
    {
     "name": "stdout",
     "output_type": "stream",
     "text": [
      "0.0949063064893014\n",
      "['radius_mean', 'smoothness_mean']\n"
     ]
    }
   ],
   "source": [
    "m = 1000\n",
    "\n",
    "for i in range(len(res)):\n",
    "    Y=df['diagnosis']\n",
    "    features = res[i]\n",
    "    X = df[features]\n",
    "    x_train,x_test,y_train,y_test=train_test_split(X,Y,test_size=0.3)\n",
    "\n",
    "    n_iter=100\n",
    "    clf_ = SGDRegressor(max_iter=n_iter)\n",
    "    clf_.fit(x_train, y_train)\n",
    "    y_pred_sksgd=clf_.predict(x_test)\n",
    "    mse = mean_squared_error(y_test, y_pred_sksgd)\n",
    "    \n",
    "    if mse < m:\n",
    "        m = mse\n",
    "        elm = component\n",
    "        \n",
    "print(m)\n",
    "print(elm)"
   ]
  },
  {
   "cell_type": "code",
   "execution_count": 52,
   "id": "1d2df65a-16d3-45fa-9dc4-7a39c518f4c8",
   "metadata": {},
   "outputs": [
    {
     "name": "stdout",
     "output_type": "stream",
     "text": [
      "0.6081871345029239 fractal_dimension_mean\n"
     ]
    }
   ],
   "source": [
    "m = 1000\n",
    "\n",
    "for name in names:\n",
    "    Y=df['diagnosis']\n",
    "    features = [name]\n",
    "    X = df[features]\n",
    "    x_train,x_test,y_train,y_test=train_test_split(X,Y,test_size=0.3)\n",
    "    \n",
    "    classifier = SVC(kernel='rbf', random_state = 1)\n",
    "    classifier.fit(x_train,y_train)\n",
    "    Y_pred = classifier.predict(x_test)\n",
    "    cm = confusion_matrix(y_test,Y_pred)\n",
    "    accuracy = float(cm.diagonal().sum())/len(y_test)\n",
    "    \n",
    "    if m > accuracy:\n",
    "        m = accuracy\n",
    "        curr = name\n",
    "        \n",
    "print(m, curr)"
   ]
  },
  {
   "cell_type": "code",
   "execution_count": 54,
   "id": "3349d708-a9f5-4bf4-8105-a75f35f62886",
   "metadata": {},
   "outputs": [
    {
     "name": "stdout",
     "output_type": "stream",
     "text": [
      "0.5789473684210527 ['symmetry_mean', 'texture_se']\n"
     ]
    }
   ],
   "source": [
    "m = 1000\n",
    "\n",
    "for i in range(len(res)):\n",
    "    Y=df['diagnosis']\n",
    "    features = res[i]\n",
    "    X = df[features]\n",
    "    x_train,x_test,y_train,y_test=train_test_split(X,Y,test_size=0.3)\n",
    "\n",
    "    classifier = SVC(kernel='rbf', random_state = 1)\n",
    "    classifier.fit(x_train,y_train)\n",
    "    Y_pred = classifier.predict(x_test)\n",
    "    cm = confusion_matrix(y_test,Y_pred)\n",
    "    accuracy = float(cm.diagonal().sum())/len(y_test)\n",
    "    \n",
    "    if m > accuracy:\n",
    "        m = accuracy\n",
    "        curr = features\n",
    "        \n",
    "print(m, curr)"
   ]
  },
  {
   "cell_type": "code",
   "execution_count": 55,
   "id": "ce95dadb-85f7-472a-9653-2402229592a6",
   "metadata": {},
   "outputs": [
    {
     "name": "stdout",
     "output_type": "stream",
     "text": [
      "0.9239766081871345\n"
     ]
    }
   ],
   "source": [
    "Y=df['diagnosis']\n",
    "X = df[names]\n",
    "x_train,x_test,y_train,y_test=train_test_split(X,Y,test_size=0.3)\n",
    "\n",
    "classifier = SVC(kernel='rbf', random_state = 1)\n",
    "classifier.fit(x_train,y_train)\n",
    "Y_pred = classifier.predict(x_test)\n",
    "cm = confusion_matrix(y_test,Y_pred)\n",
    "accuracy = float(cm.diagonal().sum())/len(y_test)\n",
    "    \n",
    "print(accuracy)"
   ]
  },
  {
   "cell_type": "code",
   "execution_count": 59,
   "id": "dcdbf2b0-c1e0-491c-939a-34cf6e7342fe",
   "metadata": {},
   "outputs": [
    {
     "name": "stdout",
     "output_type": "stream",
     "text": [
      "0.5672514619883041 fractal_dimension_se\n"
     ]
    }
   ],
   "source": [
    "m = 1000\n",
    "\n",
    "for name in names:\n",
    "    Y=df['diagnosis']\n",
    "    features = [name]\n",
    "    X = df[features]\n",
    "    x_train,x_test,y_train,y_test=train_test_split(X,Y,test_size=0.3)\n",
    "    \n",
    "    classifier = GaussianNB()\n",
    "    classifier.fit(x_train,y_train)\n",
    "    Y_pred = classifier.predict(x_test)\n",
    "    cm = confusion_matrix(y_test,Y_pred)\n",
    "    accuracy = float(cm.diagonal().sum())/len(y_test)\n",
    "    \n",
    "    if m > accuracy:\n",
    "        m = accuracy\n",
    "        curr = name\n",
    "        \n",
    "print(m, curr)"
   ]
  },
  {
   "cell_type": "code",
   "execution_count": 60,
   "id": "e9aaba5c-24ce-4d4c-88c6-94b37345bab5",
   "metadata": {},
   "outputs": [
    {
     "name": "stdout",
     "output_type": "stream",
     "text": [
      "0.5672514619883041 ['fractal_dimension_mean', 'smoothness_se']\n"
     ]
    }
   ],
   "source": [
    "m = 1000\n",
    "\n",
    "for i in range(len(res)):\n",
    "    Y=df['diagnosis']\n",
    "    features = res[i]\n",
    "    X = df[features]\n",
    "    x_train,x_test,y_train,y_test=train_test_split(X,Y,test_size=0.3)\n",
    "\n",
    "    classifier = GaussianNB()\n",
    "    classifier.fit(x_train,y_train)\n",
    "    Y_pred = classifier.predict(x_test)\n",
    "    cm = confusion_matrix(y_test,Y_pred)\n",
    "    accuracy = float(cm.diagonal().sum())/len(y_test)\n",
    "    \n",
    "    if m > accuracy:\n",
    "        m = accuracy\n",
    "        curr = features\n",
    "        \n",
    "print(m, curr)"
   ]
  },
  {
   "cell_type": "code",
   "execution_count": 61,
   "id": "f39198b4-1346-4d5b-9821-8c6b14d09f44",
   "metadata": {},
   "outputs": [
    {
     "name": "stdout",
     "output_type": "stream",
     "text": [
      "0.935672514619883\n"
     ]
    }
   ],
   "source": [
    "Y=df['diagnosis']\n",
    "X = df[names]\n",
    "x_train,x_test,y_train,y_test=train_test_split(X,Y,test_size=0.3)\n",
    "\n",
    "classifier = GaussianNB()\n",
    "classifier.fit(x_train,y_train)\n",
    "Y_pred = classifier.predict(x_test)\n",
    "cm = confusion_matrix(y_test,Y_pred)\n",
    "accuracy = float(cm.diagonal().sum())/len(y_test)\n",
    "    \n",
    "print(accuracy)"
   ]
  },
  {
   "cell_type": "code",
   "execution_count": 67,
   "id": "69fc886d-e054-4c05-bc90-f7b5a2480155",
   "metadata": {},
   "outputs": [
    {
     "name": "stdout",
     "output_type": "stream",
     "text": [
      "0.47953216374269003 smoothness_se 1\n"
     ]
    }
   ],
   "source": [
    "m = 1000\n",
    "\n",
    "for name in names:\n",
    "    Y=df['diagnosis']\n",
    "    features = [name]\n",
    "    X = df[features]\n",
    "    x_train,x_test,y_train,y_test=train_test_split(X,Y,test_size=0.3)\n",
    "    \n",
    "    for n in range(1, 26):\n",
    "        classifier = KNeighborsClassifier(n_neighbors = n)\n",
    "        classifier.fit(x_train,y_train)\n",
    "        Y_pred = classifier.predict(x_test)\n",
    "        cm = confusion_matrix(y_test,Y_pred)\n",
    "        accuracy = float(cm.diagonal().sum())/len(y_test)\n",
    "    \n",
    "        if m > accuracy:\n",
    "            m = accuracy\n",
    "            curr = name\n",
    "            num = n\n",
    "        \n",
    "print(m, curr, num)"
   ]
  },
  {
   "cell_type": "code",
   "execution_count": null,
   "id": "f859990e-dcb8-41bc-be03-0fdaf7d52d6e",
   "metadata": {},
   "outputs": [
    {
     "name": "stdout",
     "output_type": "stream",
     "text": [
      "0.49707602339181284 fractal_dimension_worst 1\n"
     ]
    }
   ],
   "source": [
    "m = 1000\n",
    "\n",
    "for i in range(len(res)):\n",
    "    features = res[i]\n",
    "    X = df[features]\n",
    "    x_train,x_test,y_train,y_test=train_test_split(X,Y,test_size=0.3)\n",
    "    \n",
    "    for n in range(1, 26):\n",
    "        classifier = KNeighborsClassifier(n_neighbors = n)\n",
    "        classifier.fit(x_train,y_train)\n",
    "        Y_pred = classifier.predict(x_test)\n",
    "        cm = confusion_matrix(y_test,Y_pred)\n",
    "        accuracy = float(cm.diagonal().sum())/len(y_test)\n",
    "    \n",
    "        if m > accuracy:\n",
    "            m = accuracy\n",
    "            curr = name\n",
    "            num = n\n",
    "        \n",
    "print(m, curr, num)"
   ]
  },
  {
   "cell_type": "code",
   "execution_count": 69,
   "id": "abff59f1-1a7e-401c-8984-9904ee81e422",
   "metadata": {},
   "outputs": [
    {
     "name": "stdout",
     "output_type": "stream",
     "text": [
      "0.9064327485380117 1\n"
     ]
    }
   ],
   "source": [
    "Y=df['diagnosis']\n",
    "X = df[names]\n",
    "x_train,x_test,y_train,y_test=train_test_split(X,Y,test_size=0.3)\n",
    "\n",
    "m = 1000\n",
    "for n in range(1, 26):\n",
    "    classifier = KNeighborsClassifier(n_neighbors = n)\n",
    "    classifier.fit(x_train,y_train)\n",
    "    Y_pred = classifier.predict(x_test)\n",
    "    cm = confusion_matrix(y_test,Y_pred)\n",
    "    accuracy = float(cm.diagonal().sum())/len(y_test)\n",
    "    \n",
    "    if m > accuracy:\n",
    "        m = accuracy\n",
    "        num = n\n",
    "        \n",
    "print(m, num)"
   ]
  },
  {
   "cell_type": "code",
   "execution_count": 14,
   "id": "3fc0d619-bb81-40a1-8429-d02347cf5049",
   "metadata": {},
   "outputs": [
    {
     "data": {
      "image/png": "[encoded data removed]",
      "text/plain": [
       "<Figure size 432x288 with 1 Axes>"
      ]
     },
     "metadata": {
      "needs_background": "light"
     },
     "output_type": "display_data"
    }
   ],
   "source": [
    "X = df[names]\n",
    "pca = PCA()\n",
    "Xt = pca.fit_transform(X)\n",
    "y = df['diagnosis']\n",
    "plot = plt.scatter(Xt[:,0], Xt[:,1], c=y)\n",
    "plt.legend(handles=plot.legend_elements()[0], labels=names)\n",
    "plt.show()"
   ]
  },
  {
   "cell_type": "code",
   "execution_count": null,
   "id": "0cdccce2-0e1b-4440-a072-918022e7e71a",
   "metadata": {},
   "outputs": [],
   "source": []
  }
 ],
 "metadata": {
  "kernelspec": {
   "display_name": "Python 3 (ipykernel)",
   "language": "python",
   "name": "python3"
  },
  "language_info": {
   "codemirror_mode": {
    "name": "ipython",
    "version": 3
   },
   "file_extension": ".py",
   "mimetype": "text/x-python",
   "name": "python",
   "nbconvert_exporter": "python",
   "pygments_lexer": "ipython3",
   "version": "3.8.12"
  }
 },
 "nbformat": 4,
 "nbformat_minor": 5
}
