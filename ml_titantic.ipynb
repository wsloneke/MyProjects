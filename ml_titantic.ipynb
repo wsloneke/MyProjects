{
 "cells": [
  {
   "cell_type": "code",
   "execution_count": 28,
   "id": "98675849-774e-4e6f-94b8-6af6ea19fc37",
   "metadata": {},
   "outputs": [],
   "source": [
    "import numpy as np\n",
    "import pandas as pd\n",
    "import matplotlib.pyplot as plt\n",
    "from sklearn.model_selection import train_test_split\n",
    "from sklearn.metrics import classification_report\n",
    "from sklearn.linear_model import SGDRegressor\n",
    "from sklearn.metrics import mean_squared_error\n",
    "from sklearn.svm import SVC\n",
    "from sklearn.metrics import confusion_matrix\n",
    "from sklearn.naive_bayes import GaussianNB\n",
    "from sklearn.neighbors import KNeighborsClassifier\n",
    "from tensorflow.keras.utils import to_categorical\n",
    "from keras.models import Sequential\n",
    "from keras.layers import Dense\n",
    "from sklearn.ensemble import RandomForestClassifier\n",
    "from sklearn import metrics"
   ]
  },
  {
   "cell_type": "code",
   "execution_count": 6,
   "id": "725cf85a-5716-44b3-84a1-4d6e3af17756",
   "metadata": {},
   "outputs": [],
   "source": [
    "train = pd.read_csv(\"data/t_train.csv\")\n",
    "test = pd.read_csv(\"data/t_test.csv\")"
   ]
  },
  {
   "cell_type": "code",
   "execution_count": 23,
   "id": "8e93a568-602b-4701-8b55-0931d5cb9de1",
   "metadata": {},
   "outputs": [],
   "source": [
    "y = train[\"Survived\"]\n",
    "features = [\"Pclass\", \"Sex\", \"SibSp\", \"Parch\"]\n",
    "X = pd.get_dummies(train[features])\n",
    "X_test = pd.get_dummies(test[features])"
   ]
  },
  {
   "cell_type": "code",
   "execution_count": 31,
   "id": "3bd14e59-8a60-4e4b-9b3e-04fb4c13e595",
   "metadata": {},
   "outputs": [
    {
     "name": "stdout",
     "output_type": "stream",
     "text": [
      "Accuracy: 0.8117977528089888\n"
     ]
    }
   ],
   "source": [
    "model = RandomForestClassifier(n_estimators=100, max_depth=5, random_state=1)\n",
    "model.fit(X, y)\n",
    "predictions = model.predict(X)\n",
    "print(\"Accuracy:\",metrics.accuracy_score(y, predictions))"
   ]
  },
  {
   "cell_type": "code",
   "execution_count": 32,
   "id": "dfbf0615-1449-4150-ae20-c5ba8f2b5dbd",
   "metadata": {},
   "outputs": [],
   "source": [
    "cats = ['Pclass', 'Sex', 'Age', 'SibSp', 'Parch', 'Fare', 'Embarked']\n",
    "\n",
    "def getCombinations(seq):\n",
    "    combinations = list()\n",
    "    for i in range(0,len(seq)):\n",
    "        for j in range(i+1,len(seq)):\n",
    "            combinations.append([seq[i],seq[j]])\n",
    "    return combinations\n",
    "\n",
    "res = getCombinations(cats)"
   ]
  },
  {
   "cell_type": "code",
   "execution_count": 33,
   "id": "97807cc8-d7de-4270-b19d-4d449b9f631b",
   "metadata": {},
   "outputs": [],
   "source": [
    "def subsets(numbers):\n",
    "    if numbers == []:\n",
    "        return [[]]\n",
    "    x = subsets(numbers[1:])\n",
    "    return x + [[numbers[0]] + y for y in x]\n",
    " \n",
    "# wrapper function\n",
    "def subsets_of_given_size(numbers, n):\n",
    "    return [x for x in subsets(numbers) if len(x)==n]"
   ]
  },
  {
   "cell_type": "code",
   "execution_count": 36,
   "id": "9c7d37b8-da26-4d8c-9f07-ad72a4290034",
   "metadata": {},
   "outputs": [
    {
     "data": {
      "text/plain": [
       "[]"
      ]
     },
     "execution_count": 36,
     "metadata": {},
     "output_type": "execute_result"
    }
   ],
   "source": [
    "combo = subsets(cats)\n",
    "combo.pop(0)"
   ]
  },
  {
   "cell_type": "code",
   "execution_count": null,
   "id": "ebc91ac2-43f9-4197-8dbe-74d13e5b3ac9",
   "metadata": {},
   "outputs": [],
   "source": [
    "m = 0\n",
    "res = [0, 0]\n",
    "cats = []\n",
    "for feature in combo:\n",
    "    Y = train[\"Survived\"]\n",
    "    X = pd.get_dummies(train[feature])\n",
    "    for i in range(1, 150):\n",
    "        for j in range(1, 11):\n",
    "            model = RandomForestClassifier(n_estimators=i, max_depth=j, random_state=1)\n",
    "            x_train,x_test,y_train,y_test=train_test_split(X,Y,test_size=0.3)\n",
    "            model.fit(x_train, y_train)\n",
    "            predictions = model.predict(x_test)\n",
    "            acc = metrics.accuracy_score(y_test, predictions)\n",
    "            if acc > m:\n",
    "                m = acc\n",
    "                res = [i, j]\n",
    "                cats = feature\n",
    "print(res, m, cats)"
   ]
  },
  {
   "cell_type": "code",
   "execution_count": null,
   "id": "3592a534-473a-4c7d-a926-662d827589b4",
   "metadata": {},
   "outputs": [],
   "source": [
    "Y = train['Survived']\n",
    "err = 100\n",
    "for features in combo:\n",
    "    X = train[features]\n",
    "    x_train,x_test,y_train,y_test=train_test_split(X,Y,test_size=0.3)\n",
    "    clf_ = SGDRegressor(max_iter=n_iter)\n",
    "    clf_.fit(x_train, y_train)\n",
    "    y_pred_sksgd=clf_.predict(x_test)\n",
    "    mse = mean_squared_error(y_test, y_pred_sksgd)\n",
    "    \n",
    "    if err > mse:\n",
    "        err = mse\n",
    "        feature = features\n",
    "print(err, features)"
   ]
  },
  {
   "cell_type": "code",
   "execution_count": null,
   "id": "d16cd2b0-62ae-4e8d-a677-03d084527dd1",
   "metadata": {},
   "outputs": [],
   "source": [
    "acc = 0\n",
    "for i in range(len(combo)):\n",
    "    Y = train['Survived']\n",
    "    features = combo[i]\n",
    "    X = train[features]\n",
    "    classifier = SVC(kernel='rbf', random_state = 1)\n",
    "    classifier.fit(x_train,y_train)\n",
    "    Y_pred = classifier.predict(x_test)\n",
    "    cm = confusion_matrix(y_test,Y_pred)\n",
    "    accuracy = float(cm.diagonal().sum())/len(y_test)\n",
    "    \n",
    "    if accuracy > acc:\n",
    "        acc = accuracy\n",
    "        feat = features\n",
    "        \n",
    "print(acc, features)"
   ]
  },
  {
   "cell_type": "code",
   "execution_count": null,
   "id": "8b84562d-3c8c-4cfb-baf6-794d332b9a61",
   "metadata": {},
   "outputs": [],
   "source": [
    "acc = 0\n",
    "for i in range(len(combo)):\n",
    "    Y = train['Survived']\n",
    "    features = combo[i]\n",
    "    X = train[features]\n",
    "    classifier = GaussianNB()\n",
    "    classifier.fit(x_train,y_train)\n",
    "    Y_pred = classifier.predict(x_test)\n",
    "    cm = confusion_matrix(y_test,Y_pred)\n",
    "    accuracy = float(cm.diagonal().sum())/len(y_test)\n",
    "    \n",
    "    if accuracy > acc:\n",
    "        acc = accuracy\n",
    "        feat = features\n",
    "        \n",
    "print(acc, features)"
   ]
  },
  {
   "cell_type": "code",
   "execution_count": null,
   "id": "0865089c-a760-4f87-9b96-2543c6a0f001",
   "metadata": {},
   "outputs": [],
   "source": [
    "for i in range(1, 26):\n",
    "    c = KNeighborsClassifier(n_neighbors = i)\n",
    "    classifiers.append(c)\n",
    "\n",
    "acc = 0\n",
    "for i in range(len(combo)):\n",
    "    Y = train['Survived']\n",
    "    features = combo[i]\n",
    "    X = train[features]\n",
    "    for i in range(1, 26):\n",
    "        classifier = KNeighborsClassifier(n_neighbors = i)\n",
    "        classifier.fit(x_train,y_train)\n",
    "        Y_pred = classifier.predict(x_test)\n",
    "        cm = confusion_matrix(y_test,Y_pred)\n",
    "        accuracy = float(cm.diagonal().sum())/len(y_test)\n",
    "    \n",
    "        if accuracy > acc:\n",
    "            acc = accuracy\n",
    "            feat = features\n",
    "            n = i\n",
    "        \n",
    "print(acc, features, i)"
   ]
  },
  {
   "cell_type": "code",
   "execution_count": 18,
   "id": "770b5d28-cd56-4155-8348-1d8b01008a30",
   "metadata": {},
   "outputs": [
    {
     "name": "stdout",
     "output_type": "stream",
     "text": [
      "WARNING:tensorflow:Model was constructed with shape (None, 2) for input KerasTensor(type_spec=TensorSpec(shape=(None, 2), dtype=tf.float32, name='dense_2_input'), name='dense_2_input', description=\"created by layer 'dense_2_input'\"), but it was called on an input with incompatible shape (None, 1).\n"
     ]
    },
    {
     "ename": "ValueError",
     "evalue": "in user code:\n\n    File \"C:\\Users\\whitn\\anaconda3\\lib\\site-packages\\keras\\engine\\training.py\", line 878, in train_function  *\n        return step_function(self, iterator)\n    File \"C:\\Users\\whitn\\anaconda3\\lib\\site-packages\\keras\\engine\\training.py\", line 867, in step_function  **\n        outputs = model.distribute_strategy.run(run_step, args=(data,))\n    File \"C:\\Users\\whitn\\anaconda3\\lib\\site-packages\\keras\\engine\\training.py\", line 860, in run_step  **\n        outputs = model.train_step(data)\n    File \"C:\\Users\\whitn\\anaconda3\\lib\\site-packages\\keras\\engine\\training.py\", line 808, in train_step\n        y_pred = self(x, training=True)\n    File \"C:\\Users\\whitn\\anaconda3\\lib\\site-packages\\keras\\utils\\traceback_utils.py\", line 67, in error_handler\n        raise e.with_traceback(filtered_tb) from None\n    File \"C:\\Users\\whitn\\anaconda3\\lib\\site-packages\\keras\\engine\\input_spec.py\", line 247, in assert_input_compatibility\n        raise ValueError(\n\n    ValueError: Exception encountered when calling layer \"sequential_1\" (type Sequential).\n    \n    Input 0 of layer \"dense_2\" is incompatible with the layer: expected axis -1of input shape to have value 2, but received input with shape (None, 1)\n    \n    Call arguments received:\n      • inputs=tf.Tensor(shape=(None, 1), dtype=float64)\n      • training=True\n      • mask=None\n",
     "output_type": "error",
     "traceback": [
      "\u001b[1;31m---------------------------------------------------------------------------\u001b[0m",
      "\u001b[1;31mValueError\u001b[0m                                Traceback (most recent call last)",
      "\u001b[1;32m~\\AppData\\Local\\Temp/ipykernel_10712/2086869520.py\u001b[0m in \u001b[0;36m<module>\u001b[1;34m\u001b[0m\n\u001b[0;32m     11\u001b[0m     \u001b[0mmodel\u001b[0m\u001b[1;33m.\u001b[0m\u001b[0mcompile\u001b[0m\u001b[1;33m(\u001b[0m\u001b[0mloss\u001b[0m\u001b[1;33m=\u001b[0m\u001b[1;34m'categorical_crossentropy'\u001b[0m\u001b[1;33m,\u001b[0m \u001b[0moptimizer\u001b[0m\u001b[1;33m=\u001b[0m\u001b[1;34m'adam'\u001b[0m\u001b[1;33m,\u001b[0m \u001b[0mmetrics\u001b[0m\u001b[1;33m=\u001b[0m\u001b[1;33m[\u001b[0m\u001b[1;34m'accuracy'\u001b[0m\u001b[1;33m]\u001b[0m\u001b[1;33m)\u001b[0m\u001b[1;33m\u001b[0m\u001b[1;33m\u001b[0m\u001b[0m\n\u001b[0;32m     12\u001b[0m \u001b[1;33m\u001b[0m\u001b[0m\n\u001b[1;32m---> 13\u001b[1;33m     \u001b[0mhistory\u001b[0m \u001b[1;33m=\u001b[0m \u001b[0mmodel\u001b[0m\u001b[1;33m.\u001b[0m\u001b[0mfit\u001b[0m\u001b[1;33m(\u001b[0m\u001b[0mx_train\u001b[0m\u001b[1;33m,\u001b[0m \u001b[0my_train\u001b[0m\u001b[1;33m,\u001b[0m \u001b[0mvalidation_data\u001b[0m\u001b[1;33m=\u001b[0m\u001b[1;33m(\u001b[0m\u001b[0mx_test\u001b[0m\u001b[1;33m,\u001b[0m \u001b[0my_test\u001b[0m\u001b[1;33m)\u001b[0m\u001b[1;33m,\u001b[0m \u001b[0mepochs\u001b[0m\u001b[1;33m=\u001b[0m\u001b[1;36m500\u001b[0m\u001b[1;33m,\u001b[0m \u001b[0mverbose\u001b[0m\u001b[1;33m=\u001b[0m\u001b[1;36m0\u001b[0m\u001b[1;33m)\u001b[0m\u001b[1;33m\u001b[0m\u001b[1;33m\u001b[0m\u001b[0m\n\u001b[0m\u001b[0;32m     14\u001b[0m \u001b[1;33m\u001b[0m\u001b[0m\n\u001b[0;32m     15\u001b[0m     \u001b[0m_\u001b[0m\u001b[1;33m,\u001b[0m \u001b[0mtrain_acc\u001b[0m \u001b[1;33m=\u001b[0m \u001b[0mmodel\u001b[0m\u001b[1;33m.\u001b[0m\u001b[0mevaluate\u001b[0m\u001b[1;33m(\u001b[0m\u001b[0mx_train\u001b[0m\u001b[1;33m,\u001b[0m \u001b[0my_train\u001b[0m\u001b[1;33m,\u001b[0m \u001b[0mverbose\u001b[0m\u001b[1;33m=\u001b[0m\u001b[1;36m0\u001b[0m\u001b[1;33m)\u001b[0m\u001b[1;33m\u001b[0m\u001b[1;33m\u001b[0m\u001b[0m\n",
      "\u001b[1;32m~\\anaconda3\\lib\\site-packages\\keras\\utils\\traceback_utils.py\u001b[0m in \u001b[0;36merror_handler\u001b[1;34m(*args, **kwargs)\u001b[0m\n\u001b[0;32m     65\u001b[0m     \u001b[1;32mexcept\u001b[0m \u001b[0mException\u001b[0m \u001b[1;32mas\u001b[0m \u001b[0me\u001b[0m\u001b[1;33m:\u001b[0m  \u001b[1;31m# pylint: disable=broad-except\u001b[0m\u001b[1;33m\u001b[0m\u001b[1;33m\u001b[0m\u001b[0m\n\u001b[0;32m     66\u001b[0m       \u001b[0mfiltered_tb\u001b[0m \u001b[1;33m=\u001b[0m \u001b[0m_process_traceback_frames\u001b[0m\u001b[1;33m(\u001b[0m\u001b[0me\u001b[0m\u001b[1;33m.\u001b[0m\u001b[0m__traceback__\u001b[0m\u001b[1;33m)\u001b[0m\u001b[1;33m\u001b[0m\u001b[1;33m\u001b[0m\u001b[0m\n\u001b[1;32m---> 67\u001b[1;33m       \u001b[1;32mraise\u001b[0m \u001b[0me\u001b[0m\u001b[1;33m.\u001b[0m\u001b[0mwith_traceback\u001b[0m\u001b[1;33m(\u001b[0m\u001b[0mfiltered_tb\u001b[0m\u001b[1;33m)\u001b[0m \u001b[1;32mfrom\u001b[0m \u001b[1;32mNone\u001b[0m\u001b[1;33m\u001b[0m\u001b[1;33m\u001b[0m\u001b[0m\n\u001b[0m\u001b[0;32m     68\u001b[0m     \u001b[1;32mfinally\u001b[0m\u001b[1;33m:\u001b[0m\u001b[1;33m\u001b[0m\u001b[1;33m\u001b[0m\u001b[0m\n\u001b[0;32m     69\u001b[0m       \u001b[1;32mdel\u001b[0m \u001b[0mfiltered_tb\u001b[0m\u001b[1;33m\u001b[0m\u001b[1;33m\u001b[0m\u001b[0m\n",
      "\u001b[1;32m~\\anaconda3\\lib\\site-packages\\tensorflow\\python\\framework\\func_graph.py\u001b[0m in \u001b[0;36mautograph_handler\u001b[1;34m(*args, **kwargs)\u001b[0m\n\u001b[0;32m   1127\u001b[0m           \u001b[1;32mexcept\u001b[0m \u001b[0mException\u001b[0m \u001b[1;32mas\u001b[0m \u001b[0me\u001b[0m\u001b[1;33m:\u001b[0m  \u001b[1;31m# pylint:disable=broad-except\u001b[0m\u001b[1;33m\u001b[0m\u001b[1;33m\u001b[0m\u001b[0m\n\u001b[0;32m   1128\u001b[0m             \u001b[1;32mif\u001b[0m \u001b[0mhasattr\u001b[0m\u001b[1;33m(\u001b[0m\u001b[0me\u001b[0m\u001b[1;33m,\u001b[0m \u001b[1;34m\"ag_error_metadata\"\u001b[0m\u001b[1;33m)\u001b[0m\u001b[1;33m:\u001b[0m\u001b[1;33m\u001b[0m\u001b[1;33m\u001b[0m\u001b[0m\n\u001b[1;32m-> 1129\u001b[1;33m               \u001b[1;32mraise\u001b[0m \u001b[0me\u001b[0m\u001b[1;33m.\u001b[0m\u001b[0mag_error_metadata\u001b[0m\u001b[1;33m.\u001b[0m\u001b[0mto_exception\u001b[0m\u001b[1;33m(\u001b[0m\u001b[0me\u001b[0m\u001b[1;33m)\u001b[0m\u001b[1;33m\u001b[0m\u001b[1;33m\u001b[0m\u001b[0m\n\u001b[0m\u001b[0;32m   1130\u001b[0m             \u001b[1;32melse\u001b[0m\u001b[1;33m:\u001b[0m\u001b[1;33m\u001b[0m\u001b[1;33m\u001b[0m\u001b[0m\n\u001b[0;32m   1131\u001b[0m               \u001b[1;32mraise\u001b[0m\u001b[1;33m\u001b[0m\u001b[1;33m\u001b[0m\u001b[0m\n",
      "\u001b[1;31mValueError\u001b[0m: in user code:\n\n    File \"C:\\Users\\whitn\\anaconda3\\lib\\site-packages\\keras\\engine\\training.py\", line 878, in train_function  *\n        return step_function(self, iterator)\n    File \"C:\\Users\\whitn\\anaconda3\\lib\\site-packages\\keras\\engine\\training.py\", line 867, in step_function  **\n        outputs = model.distribute_strategy.run(run_step, args=(data,))\n    File \"C:\\Users\\whitn\\anaconda3\\lib\\site-packages\\keras\\engine\\training.py\", line 860, in run_step  **\n        outputs = model.train_step(data)\n    File \"C:\\Users\\whitn\\anaconda3\\lib\\site-packages\\keras\\engine\\training.py\", line 808, in train_step\n        y_pred = self(x, training=True)\n    File \"C:\\Users\\whitn\\anaconda3\\lib\\site-packages\\keras\\utils\\traceback_utils.py\", line 67, in error_handler\n        raise e.with_traceback(filtered_tb) from None\n    File \"C:\\Users\\whitn\\anaconda3\\lib\\site-packages\\keras\\engine\\input_spec.py\", line 247, in assert_input_compatibility\n        raise ValueError(\n\n    ValueError: Exception encountered when calling layer \"sequential_1\" (type Sequential).\n    \n    Input 0 of layer \"dense_2\" is incompatible with the layer: expected axis -1of input shape to have value 2, but received input with shape (None, 1)\n    \n    Call arguments received:\n      • inputs=tf.Tensor(shape=(None, 1), dtype=float64)\n      • training=True\n      • mask=None\n"
     ]
    }
   ],
   "source": [
    "for i in range(len(combo)):\n",
    "    Y = train['Survived']\n",
    "    features = combo[i]\n",
    "    X = train[features]\n",
    "    \n",
    "    x_train,x_test,y_train,y_test=train_test_split(X,Y,test_size=0.3)\n",
    "    \n",
    "    model = Sequential()\n",
    "    model.add(Dense(25, input_dim=2, activation='relu'))\n",
    "    model.add(Dense(3, activation='softmax'))\n",
    "    model.compile(loss='categorical_crossentropy', optimizer='adam', metrics=['accuracy'])\n",
    "        \n",
    "    history = model.fit(x_train, y_train, validation_data=(x_test, y_test), epochs=500, verbose=0)\n",
    "        \n",
    "    _, train_acc = model.evaluate(x_train, y_train, verbose=0)\n",
    "    _, test_acc = model.evaluate(x_test, y_test, verbose=0)\n",
    "    print(features)\n",
    "    print('Train: %.3f, Test: %.3f' % (train_acc, test_acc))\n",
    "    \n",
    "    plt.plot(history.history['accuracy'], label='train')\n",
    "    plt.plot(history.history['val_accuracy'], label='test')\n",
    "    plt.legend()\n",
    "    plt.show()"
   ]
  },
  {
   "cell_type": "code",
   "execution_count": null,
   "id": "bd7d6a2b-de69-4172-9d1e-f5685c5badd2",
   "metadata": {},
   "outputs": [],
   "source": []
  }
 ],
 "metadata": {
  "kernelspec": {
   "display_name": "Python 3 (ipykernel)",
   "language": "python",
   "name": "python3"
  },
  "language_info": {
   "codemirror_mode": {
    "name": "ipython",
    "version": 3
   },
   "file_extension": ".py",
   "mimetype": "text/x-python",
   "name": "python",
   "nbconvert_exporter": "python",
   "pygments_lexer": "ipython3",
   "version": "3.8.12"
  }
 },
 "nbformat": 4,
 "nbformat_minor": 5
}
