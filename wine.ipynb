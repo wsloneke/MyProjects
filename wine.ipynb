{
 "cells": [
  {
   "cell_type": "code",
   "execution_count": null,
   "id": "d44c2e35-94a9-4446-95a1-4bd25073e7f1",
   "metadata": {},
   "outputs": [],
   "source": [
    "import numpy as np\n",
    "import pandas as pd\n",
    "import iqplot\n",
    "from scipy import stats\n",
    "from sklearn.linear_model import LinearRegression\n",
    "from sklearn.model_selection import train_test_split\n",
    "from sklearn.metrics import classification_report\n",
    "from sklearn.linear_model import SGDRegressor\n",
    "from sklearn.metrics import mean_squared_error\n",
    "from sklearn.svm import SVC\n",
    "from sklearn.metrics import confusion_matrix\n",
    "from sklearn.naive_bayes import GaussianNB\n",
    "from sklearn.neighbors import KNeighborsClassifier\n",
    "from tensorflow.keras.utils import to_categorical\n",
    "from keras.models import Sequential\n",
    "from keras.layers import Dense\n",
    "from sklearn.ensemble import RandomForestClassifier\n",
    "from sklearn import metrics\n",
    "import holoviews as hv\n",
    "hv.extension('bokeh')\n",
    "\n",
    "import bokeh.io\n",
    "bokeh.io.output_notebook()"
   ]
  },
  {
   "cell_type": "code",
   "execution_count": null,
   "id": "f1917e5d-0220-4151-8a8a-a57d5ec5cbdc",
   "metadata": {},
   "outputs": [],
   "source": [
    "df = pd.read_csv('data/WineQT.csv')\n",
    "df.head()"
   ]
  },
  {
   "cell_type": "code",
   "execution_count": null,
   "id": "2b7ba796-b4fd-4e61-b28c-32e811273b4a",
   "metadata": {},
   "outputs": [],
   "source": [
    "hv.Points(\n",
    "    data=df,\n",
    "    kdims=['fixed acidity', 'residual sugar'],\n",
    ")"
   ]
  },
  {
   "cell_type": "code",
   "execution_count": null,
   "id": "98aeb671-1ac5-40a7-b4c9-c6ca69387a3b",
   "metadata": {},
   "outputs": [],
   "source": [
    "p = iqplot.strip(\n",
    "    data=df,\n",
    "    q=\"fixed acidity\",\n",
    "    jitter=True,\n",
    ")\n",
    "\n",
    "bokeh.io.show(p)"
   ]
  },
  {
   "cell_type": "code",
   "execution_count": null,
   "id": "8884beca-1c63-478f-952f-6627723053cf",
   "metadata": {},
   "outputs": [],
   "source": [
    "p = iqplot.strip(\n",
    "    data=df,\n",
    "    q=\"volatile acidity\",\n",
    "    jitter=True,\n",
    ")\n",
    "\n",
    "bokeh.io.show(p)"
   ]
  },
  {
   "cell_type": "code",
   "execution_count": null,
   "id": "4a79fa8f-f482-4113-b822-a2ae1d194e83",
   "metadata": {},
   "outputs": [],
   "source": [
    "p = iqplot.strip(\n",
    "    data=df,\n",
    "    q=\"alcohol\",\n",
    "    jitter=True,\n",
    ")\n",
    "\n",
    "bokeh.io.show(p)"
   ]
  },
  {
   "cell_type": "code",
   "execution_count": null,
   "id": "213158e7-a480-446b-b2b5-35cb5d6877a5",
   "metadata": {},
   "outputs": [],
   "source": [
    "names = list(df.columns)\n",
    "print(names)"
   ]
  },
  {
   "cell_type": "code",
   "execution_count": null,
   "id": "99df642b-f531-4c12-bb7e-1bafb2bcbad9",
   "metadata": {},
   "outputs": [],
   "source": [
    "names.remove('Id')\n",
    "names.remove('quality')\n",
    "print(names)"
   ]
  },
  {
   "cell_type": "code",
   "execution_count": null,
   "id": "f69b889b-2a9d-43c9-a98e-c8a2b4e06ff5",
   "metadata": {},
   "outputs": [],
   "source": [
    "Y = df[\"quality\"]\n",
    "features = names\n",
    "X = pd.get_dummies(df[features])\n",
    "model = RandomForestClassifier(n_estimators=100, max_depth=5, random_state=1)\n",
    "model.fit(X, Y)\n",
    "predictions = model.predict(X)\n",
    "print(\"Accuracy:\",metrics.accuracy_score(Y, predictions))"
   ]
  },
  {
   "cell_type": "code",
   "execution_count": null,
   "id": "57ce8b9f-c7b9-4e04-9369-68c240564ca5",
   "metadata": {},
   "outputs": [],
   "source": [
    "def subsets(numbers):\n",
    "    if numbers == []:\n",
    "        return [[]]\n",
    "    x = subsets(numbers[1:])\n",
    "    return x + [[numbers[0]] + y for y in x]\n",
    "\n",
    "def subsets_of_given_size(numbers, n):\n",
    "    return [x for x in subsets(numbers) if len(x)==n]"
   ]
  },
  {
   "cell_type": "code",
   "execution_count": null,
   "id": "7fee1278-d94a-4b5d-9c6e-cceeb91edcee",
   "metadata": {},
   "outputs": [],
   "source": [
    "combo = subsets(names)\n",
    "combo.remove([])"
   ]
  },
  {
   "cell_type": "code",
   "execution_count": null,
   "id": "d91dc7db-21ac-427f-8179-37606f1659d9",
   "metadata": {},
   "outputs": [],
   "source": [
    "m = 0\n",
    "res = [0, 0]\n",
    "cats = []\n",
    "for feature in combo:\n",
    "    X = pd.get_dummies(df[feature])\n",
    "    Y = df[\"quality\"]\n",
    "    for i in range(1, 15):\n",
    "        for j in range(1, 12):\n",
    "            model = RandomForestClassifier(n_estimators=i, max_depth=j, random_state=1)\n",
    "            x_train,x_test,y_train,y_test=train_test_split(X,Y,test_size=0.3)\n",
    "            model.fit(x_train, y_train)\n",
    "            predictions = model.predict(x_test)\n",
    "            acc = metrics.accuracy_score(y_test, predictions)\n",
    "            if acc > m:\n",
    "                m = acc\n",
    "                res = [i, j]\n",
    "                cats = feature\n",
    "print(res, m, cats)"
   ]
  },
  {
   "cell_type": "code",
   "execution_count": null,
   "id": "b90fe626-8447-483d-bfe2-7c47bac40a61",
   "metadata": {},
   "outputs": [],
   "source": [
    "err = 100\n",
    "n_iter = 100\n",
    "for features in combo:\n",
    "    X = pd.get_dummies(df[features])\n",
    "    Y = df[\"quality\"]\n",
    "    x_train,x_test,y_train,y_test=train_test_split(X,Y,test_size=0.3)\n",
    "    clf_ = SGDRegressor(max_iter=n_iter)\n",
    "    clf_.fit(x_train, y_train)\n",
    "    y_pred_sksgd=clf_.predict(x_test)\n",
    "    mse = mean_squared_error(y_test, y_pred_sksgd)\n",
    "    \n",
    "    if err > mse:\n",
    "        err = mse\n",
    "        feature = features\n",
    "print(err, features)\n",
    "print(1 - err)"
   ]
  },
  {
   "cell_type": "code",
   "execution_count": null,
   "id": "a1b7d4f2-f5cc-4dbe-9478-064458545e28",
   "metadata": {},
   "outputs": [],
   "source": [
    "acc = 0\n",
    "for i in range(len(combo)):\n",
    "    features = combo[i]\n",
    "    X = pd.get_dummies(df[features])\n",
    "    Y = df[\"quality\"]\n",
    "    classifier = SVC(kernel='rbf', random_state = 1)\n",
    "    x_train,x_test,y_train,y_test=train_test_split(X,Y,test_size=0.3)\n",
    "    classifier.fit(x_train,y_train)\n",
    "    Y_pred = classifier.predict(x_test)\n",
    "    cm = confusion_matrix(y_test,Y_pred)\n",
    "    accuracy = float(cm.diagonal().sum())/len(y_test)\n",
    "    \n",
    "    if accuracy > acc:\n",
    "        acc = accuracy\n",
    "        feat = features\n",
    "        \n",
    "print(acc, features)"
   ]
  },
  {
   "cell_type": "code",
   "execution_count": null,
   "id": "7949bfaa-4830-45f9-b2b2-9a1b187efdf9",
   "metadata": {},
   "outputs": [],
   "source": [
    "acc = 0\n",
    "for i in range(len(combo)):\n",
    "    features = combo[i]\n",
    "    X = pd.get_dummies(df[features])\n",
    "    Y = df[\"quality\"]\n",
    "    x_train,x_test,y_train,y_test=train_test_split(X,Y,test_size=0.3)\n",
    "    classifier = GaussianNB()\n",
    "    classifier.fit(x_train,y_train)\n",
    "    Y_pred = classifier.predict(x_test)\n",
    "    cm = confusion_matrix(y_test,Y_pred)\n",
    "    accuracy = float(cm.diagonal().sum())/len(y_test)\n",
    "    \n",
    "    if accuracy > acc:\n",
    "        acc = accuracy\n",
    "        feat = features\n",
    "        \n",
    "print(acc, features)"
   ]
  },
  {
   "cell_type": "code",
   "execution_count": null,
   "id": "2edb1b57-6e9d-44f0-8051-f1dabe4c9643",
   "metadata": {},
   "outputs": [],
   "source": [
    "acc = 0\n",
    "for i in range(len(combo)):\n",
    "    features = combo[i]\n",
    "    X = pd.get_dummies(df[features])\n",
    "    Y = df[\"quality\"]\n",
    "    x_train,x_test,y_train,y_test=train_test_split(X,Y,test_size=0.3)\n",
    "    for i in range(1, 26):\n",
    "        classifier = KNeighborsClassifier(n_neighbors = i)\n",
    "        classifier.fit(x_train,y_train)\n",
    "        Y_pred = classifier.predict(x_test)\n",
    "        cm = confusion_matrix(y_test,Y_pred)\n",
    "        accuracy = float(cm.diagonal().sum())/len(y_test)\n",
    "    \n",
    "        if accuracy > acc:\n",
    "            acc = accuracy\n",
    "            feat = features\n",
    "            n = i\n",
    "        \n",
    "print(acc, features, i)"
   ]
  },
  {
   "cell_type": "code",
   "execution_count": null,
   "id": "49fd2f87-d847-48e3-90a3-c9dce85ccba9",
   "metadata": {},
   "outputs": [],
   "source": []
  }
 ],
 "metadata": {
  "kernelspec": {
   "display_name": "Python 3 (ipykernel)",
   "language": "python",
   "name": "python3"
  },
  "language_info": {
   "codemirror_mode": {
    "name": "ipython",
    "version": 3
   },
   "file_extension": ".py",
   "mimetype": "text/x-python",
   "name": "python",
   "nbconvert_exporter": "python",
   "pygments_lexer": "ipython3",
   "version": "3.8.12"
  }
 },
 "nbformat": 4,
 "nbformat_minor": 5
}
